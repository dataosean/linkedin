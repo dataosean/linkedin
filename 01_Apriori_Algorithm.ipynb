{
 "cells": [
  {
   "cell_type": "markdown",
   "metadata": {},
   "source": [
    "# Apriori Algorithm"
   ]
  },
  {
   "cell_type": "markdown",
   "metadata": {},
   "source": [
    "### 🔎목차\n",
    "\n",
    "1. `Apriori 알고리즘 개요`\n",
    "\n",
    "    - 정의 및 기본 개념\n",
    "    - 연관 규칙 학습의 목적과 중요성\n",
    "    - 데이터 과학에서의 활용\n",
    "\n",
    "2. `연관 규칙(Apriori) 기본 개념`\n",
    "\n",
    "    - 지지도, 신뢰도, 향상도 정의\n",
    "    - Apriori 원리 (빈발 항목 집합의 생성)\n",
    "    - 후보 항목 집합 생성 방법\n",
    "\n",
    "3. `Apriori 알고리즘의 동작 원리`\n",
    "\n",
    "    - 단계별 절차 설명 (단계별로 생성된 항목 집합, 지지도 계산 등)\n",
    "    - 트랜잭션 데이터베이스 처리 방식\n",
    "\n",
    "4. `Apriori 알고리즘의 효율성 개선`\n",
    "\n",
    "    - 알고리즘의 한계와 문제점\n",
    "    - 알고리즘 개선 기법 (FP-Growth 등)\n",
    "\n",
    "5. `실전 사례`\n",
    "\n",
    "    - Apriori 알고리즘의 적용 사례\n",
    "    - 마케팅, 추천 시스템에서의 사용 예\n",
    "\n",
    "6. `Python을 활용한 Apriori 알고리즘 구현`\n",
    "\n",
    "    - Python 라이브러리 사용법 (mlxtend, apyori)\n",
    "    - Apriori 알고리즘 적용 예제\n",
    "\n",
    "7. `결과 해석 및 시각화`\n",
    "\n",
    "    - 연관 규칙의 시각화 방법\n",
    "    - 해석 시 주의사항과 인사이트 도출 방법"
   ]
  },
  {
   "cell_type": "markdown",
   "metadata": {},
   "source": [
    "### 1. Apriori 알고리즘 개요\n",
    "\n",
    "1) 정의 및 기본 개념\n",
    "\n",
    "    - 대규모 데이터셋에서 빈발 항목 집합(frequent itemsets)을 찾아내고 이를 바탕으로 연관 규칙(association rules)을 생성하는 기법.\n",
    "\n",
    "        - 빈발 항목 집합(Frequent Itemsets)이란 일정 빈도를 넘는 항목 집합을 빈발 항목 집합으로 간주한다.\n",
    "        \n",
    "        - 연관 규칙은 \"A를 구매한 사람이 B도 구매할 확률\"과 같은 규칙을 생성한다.\n",
    "\n",
    "    - \"항목 집합의 모든 부분 집합이 빈발 집합이어야 한다\"는 기본 원칙을 사용한다.\n",
    "\n",
    "    - 이를 통해 후보 항목 집합의 수를 줄이고, 계산 효율성을 높일 수 있다.\n",
    "\n",
    "2) 연관 규칙 학습의 목적과 중요성\n",
    "\n",
    "    - 연관 규칙 학습은 데이터 간의 관계를 탐색하고, 예측 모델이나 추천 시스템을 구축하는 데 중요한 역할을 한다.\n",
    "\n",
    "    - 예를 들어, 특정 상품을 구매한 고객이 다른 상품도 구매할 확률을 추론하는 데 사용된다.\n",
    "\n",
    "3) 데이터 분석에서의 활용\n",
    "\n",
    "    - Apriori 알고리즘은 마케팅, 추천 시스템, 사기 탐지 등에서 널리 사용된다.\n",
    "\n",
    "    - 특히 장바구니 분석을 통해 고객의 구매 패턴을 파악할 수 있다."
   ]
  },
  {
   "attachments": {
    "image-2.png": {
     "image/png": "[encoded data removed]"
    },
    "image-3.png": {
     "image/png": "[encoded data removed]"
    },
    "image.png": {
     "image/png": "[encoded data removed]"
    }
   },
   "cell_type": "markdown",
   "metadata": {},
   "source": [
    "#### 2. 연관 규칙(Apriori) 기본 개념\n",
    "\n",
    "1) 지지도, 신뢰도, 향상도 정의\n",
    "\n",
    "    1) 지지도(Support)\n",
    "\n",
    "        - 특정 항목 집합이 전체 거래에서 차지하는 비율을 나타낸다.\n",
    "\n",
    "        - ![image.png](attachment:image.png)\n",
    " \n",
    "        - 예제: 데이터셋에서 'A'라는 상품이 100건 중 20건에서 등장했다면, Support는 0.2이다.\n",
    "\n",
    "    2) 신뢰도(Confidence)\n",
    "\n",
    "        - 규칙 𝐴⇒𝐵에서 A가 발생했을 때(=규칙 조건이 주어졌을 떄) B가 발생할 확률이다.\n",
    "\n",
    "        - ![image-2.png](attachment:image-2.png)\n",
    " \n",
    "        - 예제: 'A' 상품을 구매한 고객 중 70%가 'B'도 구매했다면, Confidence는 0.7이다.\n",
    "\n",
    "    3) 향상도(Lift)\n",
    "\n",
    "        - 특정 항목 집합(A)이 다른 항목 집합의 발생(B)을 얼마나 잘 예측하는지 나타낸다.\n",
    "        \n",
    "        - 향샹도(Lift)가 1보다 크면 A가 B 발생 확률을 높인다는 의미이다.\n",
    "\n",
    "        - ![image-3.png](attachment:image-3.png)\n",
    "​\n",
    "        - 예제: B 상품의 전체 지지도가 0.3이고 A가 발생할 때 B가 발생하는 신뢰도가 0.7이면?\n",
    "\n",
    "        - 정답: 향상도(Lift)는 0.7 / 0.3 = 2.33 이다.\n",
    "\n",
    "2) Apriori 원리 (빈발 항목 집합의 생성)\n",
    "\n",
    "    - 모든 빈발 항목 집합의 부분 집합도 빈발 항목 집합이어야 한다.\n",
    "    \n",
    "    - 따라서, 빈발하지 않은 집합의 모든 상위 집합은 제거된다.\n",
    "\n",
    "3) 후보 항목 집합 생성 방법\n",
    "\n",
    "    - 후보 항목 집합은 빈발 항목 집합을 기반으로 확장되며, 모든 부분 집합이 빈발 항목이어야 한다.\n",
    "\n",
    "    - \"빈발하지 않은 항목 집합을 포함하는 모든 확장 집합도 빈발하지 않다\"는 부분 집합 속성을 활용하여 후보 항목 집합을 생성한다."
   ]
  },
  {
   "cell_type": "markdown",
   "metadata": {},
   "source": [
    "### 3. Apriori 알고리즘의 동작 원리\n",
    "\n",
    "1) 단계별 절차 설명\n",
    "\n",
    "    - 단계 1: `후보 항목 집합 생성`\n",
    "    \n",
    "        - 모든 가능한 항목 집합을 생성한다.\n",
    "\n",
    "    - 단계 2: `빈발 항목 집합 선택`\n",
    "\n",
    "        - 지지도가 최소 지지도(threshold)를 초과하는 항목 집합을 선택한다.\n",
    "\n",
    "    - 단계 3: `연관 규칙 생성`\n",
    "\n",
    "        - 신뢰도가 최소 신뢰도를 초과하는 연관 규칙을 생성한다.\n",
    "\n",
    "2) 트랜잭션 데이터베이스 처리 방식\n",
    "\n",
    "    - 트랜잭션 데이터베이스를 반복적으로 스캔하여 빈발 항목 집합을 찾는다.\n",
    "\n",
    "    - 이를 위해 효율적인 자료구조와 기법이 필요하다.\n",
    "\n",
    "        - 트랜잭션 데이터의 특성을 분석하여 불필요한 항목을 제거하거나 압축함으로써 연산 효율성을 높일 수 있다.\n",
    "\n",
    "        - 데이터 전처리 단계에서 이러한 작업을 수행하면 알고리즘의 성능을 개선할 수 있다."
   ]
  },
  {
   "cell_type": "markdown",
   "metadata": {},
   "source": [
    "### 💡최소 지지도와 최소 신뢰도 설정\n",
    "\n",
    "1) 최소 지지도\n",
    "\n",
    "    - 연관 규칙을 생성할 때 사용되는 항목 집합이 나타나야 하는 최소 빈도.\n",
    "\n",
    "    - 너무 높게 설정하면 유용한 규칙을 놓칠 수 있고, 너무 낮게 설정하면 너무 많은 규칙이 생성된다.\n",
    "\n",
    "2) 최소 신뢰도\n",
    "\n",
    "    - A가 발생했을 때, B가 발생하는 확률이 어느 정도 이상이어야 규칙이 유효하다고 간주하는 기준."
   ]
  },
  {
   "cell_type": "markdown",
   "metadata": {},
   "source": [
    "### 4. Apriori 알고리즘의 효율성 개선\n",
    "\n",
    "1) 알고리즘의 한계와 문제점\n",
    "\n",
    "    - Apriori 알고리즘은 대규모 데이터셋에서의 성능이 저하될 수 있다.\n",
    "    \n",
    "    - 데이터베이스를 여러 번 스캔해야 하는 단점으로 처리 속도가 느려질 수 있다.\n",
    "\n",
    "2) 알고리즘 개선 기법 (FP-Growth 등)\n",
    "\n",
    "    - FP-Growth는 트리 구조를 사용하여 빈발 항목 집합을 더 효율적으로 찾는 알고리즘으로, Apriori의 단점을 보완한다.\n",
    "\n",
    "    - FP-Growth는 데이터베이스를 한 번만 스캔하고, 메모리 내에서 처리하여 효율성을 높인다."
   ]
  },
  {
   "cell_type": "markdown",
   "metadata": {},
   "source": [
    "### 5. 실전 사례\n",
    "\n",
    "1) Apriori 알고리즘의 적용 사례\n",
    "\n",
    "    - 대형 마트에서 고객의 구매 데이터를 분석하여 연관 규칙을 도출하고, 이를 통해 마케팅 전략을 수립한다.\n",
    "\n",
    "2) 마케팅, 추천 시스템에서의 사용 예시\n",
    "\n",
    "    - 고객에게 추천할 상품을 결정하거나, 교차 판매 전략을 세우는 데 Apriori 알고리즘이 활용된다."
   ]
  },
  {
   "cell_type": "markdown",
   "metadata": {},
   "source": [
    "### 6. Python을 활용한 Apriori 알고리즘 구현\n",
    "\n",
    "1) Python 라이브러리 사용법 (mlxtend, apyori)\n",
    "\n",
    "    - mlxtend와 apyori 같은 라이브러리를 사용해 쉽게 Apriori 알고리즘을 구현할 수 있다.\n",
    "\n",
    "2) Apriori 알고리즘 적용 예제\n",
    "\n",
    "    - 아래 코드는 데이터를 전처리한 후, Apriori 알고리즘을 적용하여 빈발 항목 집합을 추출하고 연관 규칙을 생성한다."
   ]
  },
  {
   "cell_type": "markdown",
   "metadata": {},
   "source": [
    "### 💡연습문제와 실전사례\n",
    "\n",
    "- 연습문제: 다양한 최소 지지도와 최소 신뢰도를 설정하여 Apriori 알고리즘이 생성하는 규칙을 비교한다.\n",
    "\n",
    "- 실전사례: 고객 구매 데이터를 바탕으로 상품 추천 시스템을 구축한다.\n",
    "\n",
    "- 아래 코드는 실제 데이터를 사용하여 Apriori 알고리즘을 적용하고, 결과로 생성된 연관 규칙을 분석하는 방법을 보여준다."
   ]
  },
  {
   "cell_type": "code",
   "execution_count": 6,
   "metadata": {},
   "outputs": [
    {
     "name": "stdout",
     "output_type": "stream",
     "text": [
      "   item1   item2  item3 item4\n",
      "0   milk   bread   None  None\n",
      "1   milk  diaper   beer  None\n",
      "2   milk  diaper  bread  beer\n",
      "3  bread  butter   None  None\n",
      "4  bread  diaper   None  None\n"
     ]
    }
   ],
   "source": [
    "# 코드 실습: 고객 구매 패턴 분석을 위한 Apriori 알고리즘\n",
    "from mlxtend.frequent_patterns import apriori, association_rules\n",
    "import pandas as pd\n",
    "\n",
    "# 예제 데이터 생성\n",
    "df = pd.DataFrame([\n",
    "    ['milk', 'bread'],\n",
    "    ['milk', 'diaper', 'beer'],\n",
    "    ['milk', 'diaper', 'bread', 'beer'],\n",
    "    ['bread', 'butter'],\n",
    "    ['bread', 'diaper'],\n",
    "], columns=['item1', 'item2', 'item3', 'item4'])\n",
    "\n",
    "print(df)"
   ]
  },
  {
   "cell_type": "markdown",
   "metadata": {},
   "source": [
    "각 트랜잭션의 항목에 대해 원-핫 인코딩을 수행한 후, Apriori 알고리즘을 적용하여 빈발 항목 집합과 연관 규칙을 도출한다."
   ]
  },
  {
   "cell_type": "code",
   "execution_count": 19,
   "metadata": {},
   "outputs": [],
   "source": [
    "# 데이터 전처리\n",
    "one_hot = pd.get_dummies(df.stack()).groupby(level=0).sum()"
   ]
  },
  {
   "cell_type": "markdown",
   "metadata": {},
   "source": [
    "#### 🔎df.stack()\n",
    "\n",
    "- 데이터프레임에서 열을 인덱스 레벨로 쌓아서 시리즈로 변환합니다.\n",
    "\n",
    "#### 🔎pd.get_dummies()\n",
    "\n",
    "- 범주형 데이터를 원-핫 인코딩(one-hot encoding)으로 변환한다.\n",
    "\n",
    "- 즉, 각 고유한 항목이 개별적인 열로 변환되어 해당 항목이 나타날 때 1로 표시된다.\n",
    "\n",
    "#### 🔎groupby(level=0).sum()\n",
    "\n",
    "- level=0으로 그룹화한 후, 각 그룹에 대해 합계를 계산한다.\n",
    "\n",
    "- 이는 원래의 각 행(트랜잭션)이 다시 통합되어, 각 항목에 대한 원-핫 인코딩된 값을 합친다."
   ]
  },
  {
   "cell_type": "code",
   "execution_count": 20,
   "metadata": {},
   "outputs": [
    {
     "name": "stderr",
     "output_type": "stream",
     "text": [
      "C:\\Users\\DA\\AppData\\Roaming\\Python\\Python311\\site-packages\\mlxtend\\frequent_patterns\\fpcommon.py:109: DeprecationWarning: DataFrames with non-bool types result in worse computationalperformance and their support might be discontinued in the future.Please use a DataFrame with bool type\n",
      "  warnings.warn(\n"
     ]
    }
   ],
   "source": [
    "# Apriori 알고리즘 적용\n",
    "frequent_itemsets = apriori(one_hot, min_support=0.6, use_colnames=True)"
   ]
  },
  {
   "cell_type": "markdown",
   "metadata": {},
   "source": [
    "#### 🔎min_support=0.6\n",
    "\n",
    "- 최소 지지도 설정으로, 아이템셋이 전체 트랜잭션 중 얼마나 자주 등장해야 빈발 항목 집합으로 간주되는지를 정의한다.\n",
    "\n",
    "- 여기서는 60% 이상의 트랜잭션에서 나타나야 빈발 항목 집합으로 간주된다.\n",
    "\n",
    "#### 🔎use_colnames=True\n",
    "\n",
    "- 열 이름을 아이템셋으로 사용할지를 지정한다.\n",
    "\n",
    "- 이 옵션을 설정하면 결과에 항목 이름이 포함된다."
   ]
  },
  {
   "cell_type": "code",
   "execution_count": 21,
   "metadata": {},
   "outputs": [],
   "source": [
    "# 연관 규칙 생성\n",
    "rules = association_rules(frequent_itemsets, metric=\"confidence\", min_threshold=0.7)"
   ]
  },
  {
   "cell_type": "markdown",
   "metadata": {},
   "source": [
    "#### 🔎frequent_itemsets\n",
    "\n",
    "- 앞서 구한 빈발 항목 집합을 기반으로 연관 규칙을 생성한다.\n",
    "\n",
    "#### 🔎metric=\"confidence\"\n",
    "\n",
    "- 연관 규칙을 평가할 기준으로 신뢰도를 사용한다.\n",
    "\n",
    "- 신뢰도는 특정 항목이 포함된 트랜잭션 중 다른 항목이 얼마나 자주 함께 나타나는지를 측정한다.\n",
    "\n",
    "#### 🔎min_threshold=0.7\n",
    "\n",
    "- 연관 규칙의 최소 신뢰도 임계값을 70%로 설정한다.\n",
    "\n",
    "- 신뢰도가 이 값 이상인 규칙만 포함된다."
   ]
  },
  {
   "cell_type": "code",
   "execution_count": 22,
   "metadata": {},
   "outputs": [
    {
     "name": "stdout",
     "output_type": "stream",
     "text": [
      "   support  itemsets\n",
      "0      0.8   (bread)\n",
      "1      0.6  (diaper)\n",
      "2      0.6    (milk)\n"
     ]
    }
   ],
   "source": [
    "# 생성된 빈발 항목 집합을 출력한다.\n",
    "print(frequent_itemsets)"
   ]
  },
  {
   "cell_type": "code",
   "execution_count": 23,
   "metadata": {},
   "outputs": [
    {
     "name": "stdout",
     "output_type": "stream",
     "text": [
      "Empty DataFrame\n",
      "Columns: [antecedents, consequents, antecedent support, consequent support, support, confidence, lift, leverage, conviction, zhangs_metric]\n",
      "Index: []\n"
     ]
    }
   ],
   "source": [
    "# 도출된 연관 규칙을 출력한다.\n",
    "print(rules)"
   ]
  },
  {
   "cell_type": "markdown",
   "metadata": {},
   "source": [
    "#### 🔎Columns\n",
    "\n",
    "- association_rules 함수가 연관 규칙을 계산한 후 결과로 반환하는 데이터프레임의 각 열을 나타낸다.\n",
    "\n",
    "- 각각 연관 규칙의 요소와 관련된 다양한 평가 지표를 담고 있으며, 이를 통해 규칙의 유용성과 신뢰도를 평가할 수 있다.\n",
    "\n",
    "    - antecedents: 연관 규칙의 선행 항목 (If 조건에 해당)\n",
    "\n",
    "    - consequents: 연관 규칙의 결과 항목 (Then 조건에 해당)\n",
    "\n",
    "    - antecedent support: 선행 항목이 발생한 비율 (지지도)\n",
    "\n",
    "    - consequent support: 결과 항목이 발생한 비율 (지지도)\n",
    "\n",
    "    - support: 전체 데이터에서 해당 규칙이 발생한 비율 (두 항목 집합이 동시에 발생하는 비율)\n",
    "\n",
    "    - confidence: 선행 항목이 발생했을 때 결과 항목이 발생할 확률 (신뢰도)\n",
    "\n",
    "    - lift: 선행 항목이 결과 항목에 미치는 영향력. 1보다 크면 긍정적 영향, 1보다 작으면 부정적 영향.\n",
    "\n",
    "    - leverage: 규칙의 예상 빈도와 실제 빈도 간의 차이.\n",
    "\n",
    "    - conviction: 선행 항목이 발생했을 때 결과 항목이 발생하지 않을 확률.\n",
    "\n",
    "    - zhangs_metric: Zhang의 지표로, 규칙의 강도와 방향을 나타냄."
   ]
  },
  {
   "cell_type": "markdown",
   "metadata": {},
   "source": [
    "### 💡분석 결과\n",
    "\n",
    "1. support: 각 항목 집합이 전체 데이터에서 차지하는 비율이다.\n",
    "\n",
    "    - 예를 들어, bread는 전체 트랜잭션의 80%에 포함되어 있으며, diaper와 milk는 각각 60%의 지지도를 가진다.\n",
    "\n",
    "2. itemsets: 빈발 항목 집합이다.\n",
    "\n",
    "    - 예를 들어, bread는 단일 항목 집합으로 80%의 지지도를 가지고 있음을 의미한다.\n",
    "\n",
    "3. Empty DataFrame: 연관 규칙이 발견되지 않았음을 의미한다.\n",
    "\n",
    "    - 즉, 설정된 최소 신뢰도 기준(70%)을 충족하는 규칙이 없다는 뜻이다.\n",
    "    \n",
    "    - 이 경우, 최소 신뢰도 임계값을 낮추거나 다른 설정을 조정해 볼 수 있다."
   ]
  },
  {
   "cell_type": "markdown",
   "metadata": {},
   "source": [
    "### 7. 결과 해석 및 시각화\n",
    "\n",
    "1) 연관 규칙의 시각화 방법\n",
    "\n",
    "    - 연관 규칙을 시각화하여 각 규칙의 중요도를 더 쉽게 이해할 수 있다.\n",
    "    \n",
    "    - 이를 위해 matplotlib과 같은 시각화 도구를 사용한다.\n",
    "\n",
    "2) 해석 시 주의사항과 인사이트 도출 방법\n",
    "\n",
    "    - 생성된 연관 규칙이 의미 있고 유용한지 평가해야 한다.\n",
    "    \n",
    "    - 또한, 높은 신뢰도와 향상도를 가진 규칙을 주목하여 인사이트를 도출할 수 있다."
   ]
  }
 ],
 "metadata": {
  "kernelspec": {
   "display_name": "Python 3",
   "language": "python",
   "name": "python3"
  },
  "language_info": {
   "codemirror_mode": {
    "name": "ipython",
    "version": 3
   },
   "file_extension": ".py",
   "mimetype": "text/x-python",
   "name": "python",
   "nbconvert_exporter": "python",
   "pygments_lexer": "ipython3",
   "version": "3.11.2"
  }
 },
 "nbformat": 4,
 "nbformat_minor": 2
}
